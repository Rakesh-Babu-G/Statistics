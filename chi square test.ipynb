{
 "cells": [
  {
   "cell_type": "markdown",
   "id": "9a31caa8",
   "metadata": {},
   "source": [
    "## Chi square test"
   ]
  },
  {
   "cell_type": "markdown",
   "id": "bb75a6b3",
   "metadata": {},
   "source": [
    "\n",
    "At a steel plant company, statistical quality-control methods have been used very successfully\n",
    "in controlling slab width on continuous casting units. \n",
    "The company claims that a large reduction in the steel slab width variance resulted from the use of these methods.\n",
    "\n",
    "Suppose that the variance of steel slab widths is expected to be 156 (squared units).\n",
    "A test is carried out to determine whether the variance is above the required level, \n",
    "with the intention to take corrective action *if it is concluded that the variance is greater than 156.* \n",
    "\n",
    "A random sample of 25 slabs gives a sample variance of 175.\n",
    "Using α = 0.05, should corrective action be taken?\n"
   ]
  },
  {
   "cell_type": "code",
   "execution_count": 19,
   "id": "cf4325c0",
   "metadata": {},
   "outputs": [],
   "source": [
    "#importing libraries\n",
    "from scipy.stats import chi2\n",
    "from scipy.stats import chisquare\n",
    "from scipy.stats import chi2_contingency"
   ]
  },
  {
   "cell_type": "code",
   "execution_count": 20,
   "id": "4e17bfb3",
   "metadata": {},
   "outputs": [
    {
     "name": "stdout",
     "output_type": "stream",
     "text": [
      "test_statistic: 26.923076923076923\n",
      "crit_value: 36.41502850180731\n",
      "pvalue: 0.30805154704070414\n",
      "\n",
      "Failed to Reject Null\n"
     ]
    }
   ],
   "source": [
    "# Sample n = 25, sample variance s^2 = 175\n",
    "# Hypothesized value of variance = 156\n",
    "# H0: σ2 <= 156, H1: σ2 > 156, test at significance level 0.05\n",
    "### Right tail test\n",
    "### ie rejection region is 0.05 area to the right ###\n",
    "\n",
    "# Test Statistic = χ2 = (n – 1)s^2 /σ^2\n",
    "\n",
    "test_statistic = (25-1)*175/156\n",
    "print(\"test_statistic:\",test_statistic)\n",
    "\n",
    "# The critical value from the Chi-Square distribution based on the significance level\n",
    "# and degrees of freedom provided.\n",
    "# bcz it is right tailed test, q=0.95 is specified to find out the ctitical value.\n",
    "\n",
    "crit_value = chi2.ppf(df=24,q=1-0.05)\n",
    "print(\"crit_value:\",crit_value)\n",
    "\n",
    "# pvalue for the test-statistic & df provided.\n",
    "# chi2.cdf indicates the cumulative probability(area from left till that point) of the test statistic.\n",
    "# so p value for this right tailed test(ie rejection region shall be test-statistic prob <0.05) is 1-ch2.cdf().\n",
    "\n",
    "pvalue = 1-chi2.cdf(test_statistic, df=24)\n",
    "\n",
    "print(\"pvalue:\",pvalue)\n",
    "\n",
    "# for the right tail test, criteria of Null rejection\n",
    "\n",
    "if test_statistic > crit_value:\n",
    "    print('\\nNull Rejected')\n",
    "else:\n",
    "    print('\\nFailed to Reject Null')\n"
   ]
  },
  {
   "cell_type": "markdown",
   "id": "383fc931",
   "metadata": {},
   "source": [
    "*Test statistic found is less than critical value => so null hypothesis is not rejected.*\n",
    "\n",
    "*The p-value is greater than significance level => so null hypothesis is not rejected.*\n",
    "\n",
    "*So we cannot say the variance is greater than 156 based on the sample data. Hence no need to take any corrective action.*"
   ]
  },
  {
   "cell_type": "markdown",
   "id": "a4733d55",
   "metadata": {},
   "source": [
    "### Two tail test chi2"
   ]
  },
  {
   "cell_type": "markdown",
   "id": "288d32b1",
   "metadata": {},
   "source": [
    "Test the claim at 5% significance level\n",
    "\n",
    "H0: σ2 = 152, H1: σ2 != 152\n",
    "\n",
    "This is a Two tail test\n",
    "\n",
    "Sample of n = 13 had stdev of 7.2\n",
    "\n",
    "What is the decision?"
   ]
  },
  {
   "cell_type": "code",
   "execution_count": 47,
   "id": "58324852",
   "metadata": {},
   "outputs": [
    {
     "name": "stdout",
     "output_type": "stream",
     "text": [
      "\n",
      "criticial_values: (4.403788506981702, 23.33666415864534)\n",
      "\n",
      "test_statistic: 4.092631578947369\n",
      "\n",
      "pvalue: 0.018293771496678428\n",
      "\n",
      "Null Rejected\n"
     ]
    }
   ],
   "source": [
    "# Critical Values for 5% at df = 13-1 are χ2 (0.025)  and χ2 (0.975).\n",
    "# Test Statistic χ2 to be calculated. \n",
    "\n",
    "# two-tail test... so 5% significance indicates 0.975, 0.025 probabilities.\n",
    "# chi2.interval provides the Upper, lower values.\n",
    "\n",
    "criticial_values = chi2.interval(alpha =0.95, df=12) # χ2U,χ2L\n",
    "lower_critical_value = criticial_values[0]\n",
    "upper_critical_value = criticial_values[1]\n",
    "test_statistic = (13-1)*(7.2**2)/(152)\n",
    "pvalue = chi2.cdf(test_statistic, df=12)\n",
    "\n",
    "print(\"\\ncriticial_values:\",criticial_values)\n",
    "print('\\ntest_statistic:',test_statistic)\n",
    "print(\"\\npvalue:\",pvalue)\n",
    "\n",
    "#criteria for NUlL rejection.\n",
    "if test_statistic < lower_critical_value or test_statistic > upper_critical_value:\n",
    "    print('\\nNull Rejected')\n",
    "else:\n",
    "    print('\\nFailed to Reject Null')\n"
   ]
  },
  {
   "cell_type": "markdown",
   "id": "87587cf0",
   "metadata": {},
   "source": [
    "### Goodness of fit test\n",
    "\n",
    "NULL H: Expected and observed frequencies are same.\n",
    "\n",
    "ALTERNATE H: Expected and observed frequencies are not same."
   ]
  },
  {
   "cell_type": "code",
   "execution_count": 9,
   "id": "30815107",
   "metadata": {},
   "outputs": [
    {
     "name": "stdout",
     "output_type": "stream",
     "text": [
      "\n",
      "\t ch2 stat: 14.313333333333334\n",
      "\n",
      "\t p value: 0.006359337473559783\n",
      "\n",
      "\t REJECT NULL\n"
     ]
    }
   ],
   "source": [
    "#expected and observed frequencies.\n",
    "expected = [10, 20, 30, 40, 50]\n",
    "observed = [18, 12, 20, 42, 58]\n",
    "\n",
    "from scipy.stats import chisquare\n",
    "\n",
    "#p vlaue & statistic. \n",
    "stat, p = chisquare(f_obs=observed, f_exp=expected)\n",
    "print('\\n\\t ch2 stat:', stat)\n",
    "print('\\n\\t p value:', p)\n",
    "\n",
    "signi_level = 0.05\n",
    "\n",
    "#criteria for NUlL rejection.\n",
    "if p <= signi_level: \n",
    "    print('\\n\\t REJECT NULL') \n",
    "else: \n",
    "    print('\\n\\t FAIL TO REJECT NULL') "
   ]
  },
  {
   "cell_type": "markdown",
   "id": "e807cbce",
   "metadata": {},
   "source": [
    "*Rejected Null Hypothesis.*\n",
    "\n",
    "*So the observed & expected frequencies are not the same.*"
   ]
  },
  {
   "cell_type": "markdown",
   "id": "c23034bb",
   "metadata": {},
   "source": [
    "### Test for homogenity\n",
    "\n",
    "“Survey response is influenced by gender of the pollster”\n",
    "We want to test this. A set of people are polled by male, another by female pollsters. \n",
    "The responses are tabulated. Topic is purposely chosen to test this claim. It is on abortion rights. Use alpha=5%\n",
    "\n",
    "          Interviewer\n",
    "          (Man| Woman)\n",
    "Men-Agree( 560 |   308)  \n",
    "\n",
    "Men-disagree( 240 |  92)\n",
    "\n",
    "\n",
    "\n",
    "NULL H: Survey is not influenced by gender ie \"responses to survey by man & woman are equal\"\n",
    "\n",
    "ALTERNATE H: Survey is influenced ie \"responses to survey by man & woman are not equal\""
   ]
  },
  {
   "cell_type": "code",
   "execution_count": 14,
   "id": "16060d73",
   "metadata": {
    "scrolled": true
   },
   "outputs": [
    {
     "name": "stdout",
     "output_type": "stream",
     "text": [
      "[[560, 308], [240, 92]]\n",
      "\n",
      "\t ch2 stat: 6.184241574593305\n",
      "\n",
      "\t p value: 0.012889293542101093\n",
      "\n",
      "\t degrees of freedom: 1\n",
      "\n",
      "\t expected frequencies: \n",
      "\t [578.66666667 289.33333333] \n",
      "\t [221.33333333 110.66666667]\n",
      "\n",
      "\t REJECT NULL\n"
     ]
    }
   ],
   "source": [
    "import numpy as np\n",
    "import pandas as pd\n",
    "from scipy.stats import chi2_contingency \n",
    " \n",
    "data = [[560,308], [240,92]] \n",
    "print(data)\n",
    "stat, p, dof, expected = chi2_contingency(data) \n",
    "\n",
    "print('\\n\\t ch2 stat:', stat)\n",
    "print('\\n\\t p value:', p)\n",
    "print('\\n\\t degrees of freedom:', dof)\n",
    "print('\\n\\t expected frequencies:', '\\n\\t', expected[0], '\\n\\t', expected[1])\n",
    " \n",
    "signi_level = 0.05\n",
    "\n",
    "#criteria for NUlL rejection.\n",
    "if p <= signi_level: \n",
    "    print('\\n\\t REJECT NULL') \n",
    "else: \n",
    "    print('\\n\\t FAIL TO REJECT NULL') "
   ]
  },
  {
   "cell_type": "markdown",
   "id": "b3bf4522",
   "metadata": {},
   "source": [
    "*Rejected NULL.*\n",
    "\n",
    "*Hence survey is influenced by Gender ie responses to survey by men & women are not equal.*"
   ]
  },
  {
   "cell_type": "markdown",
   "id": "444aaaf7",
   "metadata": {},
   "source": [
    "### Test for independence\n",
    "\n",
    "Test the claim whether Smoking & Gender are independent ??\n",
    "\n",
    "NULL H: Smoking & Gender are independent\n",
    "\n",
    "ALTERNATE H: Smoking & Gender are not independent"
   ]
  },
  {
   "cell_type": "code",
   "execution_count": 16,
   "id": "e5221784",
   "metadata": {},
   "outputs": [],
   "source": [
    "data = pd.DataFrame({'Gender' : ['F','M', 'M', 'M', 'F', 'F','M', 'M','F','M'] * 5,\n",
    "                   'Smoking' : ['Smoker','Non-Smoker', 'Smoker', 'Non-Smoker', 'Non-Smoker', \n",
    "                                'Smoker','Smoker','Smoker','Non-Smoker','Smoker'] * 5\n",
    "                  })"
   ]
  },
  {
   "cell_type": "code",
   "execution_count": 17,
   "id": "9e44789b",
   "metadata": {
    "scrolled": true
   },
   "outputs": [
    {
     "data": {
      "text/html": [
       "<div>\n",
       "<style scoped>\n",
       "    .dataframe tbody tr th:only-of-type {\n",
       "        vertical-align: middle;\n",
       "    }\n",
       "\n",
       "    .dataframe tbody tr th {\n",
       "        vertical-align: top;\n",
       "    }\n",
       "\n",
       "    .dataframe thead th {\n",
       "        text-align: right;\n",
       "    }\n",
       "</style>\n",
       "<table border=\"1\" class=\"dataframe\">\n",
       "  <thead>\n",
       "    <tr style=\"text-align: right;\">\n",
       "      <th>Smoking</th>\n",
       "      <th>Non-Smoker</th>\n",
       "      <th>Smoker</th>\n",
       "    </tr>\n",
       "    <tr>\n",
       "      <th>Gender</th>\n",
       "      <th></th>\n",
       "      <th></th>\n",
       "    </tr>\n",
       "  </thead>\n",
       "  <tbody>\n",
       "    <tr>\n",
       "      <th>F</th>\n",
       "      <td>10</td>\n",
       "      <td>10</td>\n",
       "    </tr>\n",
       "    <tr>\n",
       "      <th>M</th>\n",
       "      <td>10</td>\n",
       "      <td>20</td>\n",
       "    </tr>\n",
       "  </tbody>\n",
       "</table>\n",
       "</div>"
      ],
      "text/plain": [
       "Smoking  Non-Smoker  Smoker\n",
       "Gender                     \n",
       "F                10      10\n",
       "M                10      20"
      ]
     },
     "execution_count": 17,
     "metadata": {},
     "output_type": "execute_result"
    }
   ],
   "source": [
    "data_table = pd.crosstab(data['Gender'], data['Smoking'])\n",
    "data_table"
   ]
  },
  {
   "cell_type": "code",
   "execution_count": 18,
   "id": "0a318445",
   "metadata": {},
   "outputs": [
    {
     "name": "stdout",
     "output_type": "stream",
     "text": [
      "\n",
      "\t ch2 stat: 0.78125\n",
      "\n",
      "\t p value: 0.3767591178115821\n",
      "\n",
      "\t degrees of freedom: 1\n",
      "\n",
      "\t expected frequencies: \n",
      "\t [ 8. 12.] \n",
      "\t [12. 18.]\n",
      "\n",
      "\t FAIL TO REJECT NULL\n"
     ]
    }
   ],
   "source": [
    "stat, p, dof, expected = chi2_contingency(data_table) \n",
    "\n",
    "print('\\n\\t ch2 stat:', stat)\n",
    "print('\\n\\t p value:', p)\n",
    "print('\\n\\t degrees of freedom:', dof)\n",
    "print('\\n\\t expected frequencies:', '\\n\\t', expected[0], '\\n\\t', expected[1])\n",
    " \n",
    "signi_level = 0.05\n",
    "\n",
    "#criteria for NUlL rejection.\n",
    "if p <= signi_level: \n",
    "    print('\\n\\t REJECT NULL') \n",
    "else: \n",
    "    print('\\n\\t FAIL TO REJECT NULL') "
   ]
  },
  {
   "cell_type": "markdown",
   "id": "73d1a4d6",
   "metadata": {},
   "source": [
    "*We fail to reject NULL.* \n",
    "\n",
    "*Hence we cannot say Smoking & Gender are not independent based on the sample data.*"
   ]
  }
 ],
 "metadata": {
  "kernelspec": {
   "display_name": "Python 3",
   "language": "python",
   "name": "python3"
  },
  "language_info": {
   "codemirror_mode": {
    "name": "ipython",
    "version": 3
   },
   "file_extension": ".py",
   "mimetype": "text/x-python",
   "name": "python",
   "nbconvert_exporter": "python",
   "pygments_lexer": "ipython3",
   "version": "3.9.5"
  }
 },
 "nbformat": 4,
 "nbformat_minor": 5
}
