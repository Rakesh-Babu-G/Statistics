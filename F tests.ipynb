{
 "cells": [
  {
   "cell_type": "markdown",
   "id": "5f9eea80",
   "metadata": {},
   "source": [
    "# F Test"
   ]
  },
  {
   "cell_type": "markdown",
   "id": "4957a37f",
   "metadata": {},
   "source": [
    "\n",
    "## *Right-tail test*\n",
    "\n",
    " An economist wants to test whether an event has decreased the variance of prices of the stock.\n",
    " \n",
    " The 25 daily stock prices before the event give s1^2 =  9.3 (dollars squared),\n",
    " \n",
    " and the 24 stock prices after the event give s2^2 = 3.0 (dollars squared).\n",
    " \n",
    " Conduct the test at  0.05.\n"
   ]
  },
  {
   "cell_type": "code",
   "execution_count": 19,
   "id": "53edb991",
   "metadata": {},
   "outputs": [
    {
     "name": "stdout",
     "output_type": "stream",
     "text": [
      "test_statistic: 3.1\n",
      "crit_value: 2.005009458245116\n",
      "pvalue: 0.004229906674598216\n",
      "\n",
      "Null Rejected\n",
      "\n"
     ]
    }
   ],
   "source": [
    "from scipy.stats import f\n",
    "\n",
    "# H0: \"σ1^2\"<= \"σ2^2\" \n",
    "# H1: \"σ1^2\"> \"σ2^2\"\n",
    "\n",
    "# This is a Right tail test ie rejection region on right tail side.\n",
    "\n",
    "\n",
    "# test_statistic\n",
    "\n",
    "test_statistic = 9.3/3     # F= s1^2/s2^2\n",
    "print('test_statistic:',test_statistic)\n",
    "\n",
    "# critical value for right tail of 0.05\n",
    "\n",
    "right_crit_value = f.ppf(q=1-0.05,dfn=24,dfd=23)\n",
    "print(\"crit_value:\",right_crit_value)\n",
    "\n",
    "# right tail test, so pvalue= 1-(f.cdf)\n",
    "\n",
    "pvalue = 1-f.cdf(test_statistic, dfn=24, dfd=23)\n",
    "print(\"pvalue:\",pvalue)\n",
    "\n",
    "# for the right tail test, criteria of Null rejection\n",
    "\n",
    "if test_statistic > right_crit_value:\n",
    "    print('\\nNull Rejected\\n')\n",
    "else:\n",
    "    print('\\nFailed to Reject Null\\n')\n"
   ]
  },
  {
   "cell_type": "markdown",
   "id": "c241cd7c",
   "metadata": {},
   "source": [
    "*Null rejected ie data indicates variance decrease ( ie sigma2^2 < sigma1^2 ) in the price of the stock.*"
   ]
  },
  {
   "cell_type": "markdown",
   "id": "a5cb7aac",
   "metadata": {},
   "source": [
    "\n",
    "## *Two tail test:*\n",
    "            \n",
    "Test the claim of variance being equal given n1 = 14, s1 = 0.12; n2 = 9, s2 = 0.11, alpha = 0.1."
   ]
  },
  {
   "cell_type": "code",
   "execution_count": 15,
   "id": "f384824c",
   "metadata": {},
   "outputs": [
    {
     "name": "stdout",
     "output_type": "stream",
     "text": [
      "test_statistic: 1.1900826446280992\n",
      "\n",
      "criticial_values: (0.36141358049655165, 3.259019235306189)\n",
      "right_crit_value: 3.259019235306189\n",
      "left_crit_value: 0.36141358049655165\n",
      "pvalue: 0.5848058897941462\n",
      "\n",
      "Failed to Reject Null\n"
     ]
    }
   ],
   "source": [
    "# test_statistic\n",
    "\n",
    "test_statistic = 0.12**2/0.11**2     # F= s1^2/s2^2\n",
    "print('test_statistic:',test_statistic)\n",
    "\n",
    "# critical values for right tail-0.95, left tail-0.05\n",
    "\n",
    "criticial_values = f.interval(alpha =0.90, dfn=13, dfd=8)       # F-Upper,F-Lower\n",
    "lower_critical_value = criticial_values[0]\n",
    "upper_critical_value = criticial_values[1]\n",
    "\n",
    "print(\"\\ncriticial_values:\",criticial_values)\n",
    "\n",
    "right_crit_value = f.ppf(q=1-0.05,dfn=13,dfd=8)\n",
    "print(\"right_crit_value:\",right_crit_value)\n",
    "\n",
    "left_crit_value = f.ppf(q=0.05,dfn=13,dfd=8)\n",
    "print(\"left_crit_value:\",left_crit_value)\n",
    "\n",
    "\n",
    "# pvalue for two-tail test\n",
    "\n",
    "pvalue = f.cdf(test_statistic, dfn=13, dfd=8)\n",
    "print(\"pvalue:\",pvalue)\n",
    "\n",
    "# Null rejection criteria for two-tail test\n",
    "\n",
    "if test_statistic < lower_critical_value or test_statistic > upper_critical_value:\n",
    "    print('\\nNull Rejected')\n",
    "else:\n",
    "    print('\\nFailed to Reject Null')   \n"
   ]
  },
  {
   "cell_type": "markdown",
   "id": "a0fbfd22",
   "metadata": {},
   "source": [
    "*Test statistic found in between the critical values => so null hypothesis is not rejected.*\n",
    "\n",
    "*The p-value is greater than significance level => so null hypothesis is not rejected.*"
   ]
  }
 ],
 "metadata": {
  "kernelspec": {
   "display_name": "Python 3",
   "language": "python",
   "name": "python3"
  },
  "language_info": {
   "codemirror_mode": {
    "name": "ipython",
    "version": 3
   },
   "file_extension": ".py",
   "mimetype": "text/x-python",
   "name": "python",
   "nbconvert_exporter": "python",
   "pygments_lexer": "ipython3",
   "version": "3.9.5"
  }
 },
 "nbformat": 4,
 "nbformat_minor": 5
}
